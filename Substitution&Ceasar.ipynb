{
 "cells": [
  {
   "cell_type": "markdown",
   "id": "80e3e17c-cdfb-4102-9c43-8afcc68fc3ce",
   "metadata": {},
   "source": [
    "<h1 style=\"color: mediumseagreen; font-family: SourceCodePro\">Cryptology</h1>\n",
    "<h4 style=\"color: Crimson; font-family: SourceCodePro\">The Science of Secrecy</h4>\n",
    "<hr>\n",
    "<body style=\"background: GhostWhite\">\n",
    "    <section>\n",
    "        <p style=\"font-family: SourceCodePro\">\n",
    "            <i>Cryptology</i> consists of the scientific studies of <i>Cryptography</i> and <i>Cryptanalysis</i>; Both sciences deal with messages and data which is being hidden and enciphered or deciphered. <i>Cryptography</i> is the study of methods in which messages can be sent in secret so that only the intended recipient can remove the disguise and read the the message. The original readable text is generally called <i>plain-text</i> while the corresponding disguised text is known as the <i>cipher-text</i>; The final message which is encapsulated and transmitted is called a <i>cryptogram</i>. the process of transforming plain-text into cipher-text is called <i>encryption</i> or <i>enciphering</i>, while vice-versa the reversed process of turning cipher-text into plain-text is known as <i>decryption</i> or <i>deciphering</i>. The study of this reverse process and the breaking of ciphers is commonly known as <i>cryptanalysis</i>; the history of cryptology itself has been a constant battle between cryptographers and cryptanalysts to see who can hold the upper hand. Right now due to the unbreakable nature of certain encipherments it seems cryptographers have the upper hand, however, due to new technologies such as quantum computers this will soon change.\n",
    "        </p>\n",
    "    </section>\n",
    "    <br>\n",
    "    <section>\n",
    "        <p style=\"font-family: SourceCodePro\">\n",
    "            For the most part this notebook will concern itself only with the scientific studies of <i>cryptography</i> and <i>cryptanalysis</i>. I will largely ignore many historical accounts that would take for too much time to explain and are available with better recounts elsewhere; I will also ignore largely the study of <i>steganography</i> which is a form of secret writing wherein instead of obfuscating the original messages text, you simply hide the whole thing in by some physical means like wax over a table or hair over a tattoo on someones head. I will ignore this mostly because it does not involve mathematics to implement and is too easily uncovered by those who care to look. I will focus much of the notebook on different ciphers and how ciphers have evolved throughout history, I will then try and apply cryptographic and cryptanalytical techniques to these ciphers.\n",
    "        </p>\n",
    "    </section>\n",
    "</body>"
   ]
  },
  {
   "cell_type": "markdown",
   "id": "45e70af0-141e-4e0e-a1f4-513f6b04a9ba",
   "metadata": {},
   "source": [
    "<hr>\n",
    "<h2 style=\"font-family: SourceCodePro; color: SeaGreen\">\n",
    "    The Ceasar Cipher\n",
    "</h2>\n",
    "<h4 style=\"font-family: SourceCodePro; color: crimson\">\n",
    "    Monoalphabetic Substitution\n",
    "</h4>\n",
    "<body>\n",
    "    <section>\n",
    "        <p style=\"font-family: SourceCodePro\">\n",
    "            The two initial ciphers that came to be developed were two forms of letter substitutions; these were respectively said to either be <i>transposition</i> or <i>substitution</i> ciphers which reflected how they acted in the plaintext. In <i>substitution</i> a letter may change its <i>identity</i> nut not its <i>location</i> amongst the text, On the other hand, in <i>transposition</i> the letter may change its <i>position</i> but not it's <i>identity</i>. One of the earliest forms of substitution cipher ever developed and which was used extensively is one which was developed and utilized by Julius Ceasar himself, thus giving it the name of the Ceasar Cipher.\n",
    "        </p>\n",
    "    </section>\n",
    "    <br>\n",
    "    <section>\n",
    "        <p style=\"font-family: SourceCodePro\">\n",
    "            The Ceasar cipher was actually quite simple in application, Ceasar would simply take the alphabet and list it out in its entirely so it could be viewed easily as one continuous line. Next he would choose a key of a number within the range of the alphabet(<i>English would be a # between 1 and 25</i>) and for every letter in the plaintext message he would change it to the letter that was whatever key # chosen down from it on the alphabet. Below I will show how this can applied through modern means in the form of python scripting.\n",
    "        </p>\n",
    "    </section>\n",
    "</body>"
   ]
  },
  {
   "cell_type": "code",
   "execution_count": 1,
   "id": "498e21c2-57a2-4a47-a352-f68b88b53af7",
   "metadata": {},
   "outputs": [],
   "source": [
    "# First I will import the necessary modules and create a dictionary of the alphabet to utilize in my code\n",
    "\n",
    "import string\n",
    "\n",
    "# Defines a dictionary of the alphabet\n",
    "alphabet_string = string.ascii_lowercase\n",
    "abcs = list(alphabet_string)"
   ]
  },
  {
   "cell_type": "code",
   "execution_count": 3,
   "id": "acdb7e40-e215-442f-9f70-0eb7d6e1b179",
   "metadata": {},
   "outputs": [],
   "source": [
    "# First I will create a function to set the key for either encryption or decryption\n",
    "\n",
    "# Function to determine a shift value between 1 and 25 for the english alphabet\n",
    "def determine_shift():\n",
    "    shiftval = int(input(\"Input a Shift Value between 1 and 25):\\n\"))\n",
    "    if shiftval >= 1 and shiftval <= 25:\n",
    "        return shiftval\n",
    "    else:\n",
    "        exit"
   ]
  },
  {
   "cell_type": "code",
   "execution_count": 4,
   "id": "2f2bead9-8e61-4422-8d15-730e1ff09525",
   "metadata": {},
   "outputs": [],
   "source": [
    "# Next I will create a function to solicit text from the user\n",
    "\n",
    "def solicit_text():\n",
    "    text = input(\"Input text here:\\n\")\n",
    "    return text"
   ]
  },
  {
   "cell_type": "code",
   "execution_count": 5,
   "id": "13cf1e87-eecf-4e05-938d-f3433ded7a02",
   "metadata": {},
   "outputs": [],
   "source": [
    "# Finally I will create my functions for encryption and decryption\n",
    "\n",
    "# Function to Encrypt a string\n",
    "def encrypt(plaintext, shift):\n",
    "    encryption = \"\"\n",
    "    for c in plaintext.upper():\n",
    "        # check if character is an uppercase letter\n",
    "        if c.isupper():\n",
    "            # find the position in 0-25\n",
    "            c_unicode = ord(c)\n",
    "            c_index = ord(c) - ord(\"A\")\n",
    "            # perform the shift\n",
    "            new_index = (c_index + shift) % 26\n",
    "            # convert to new character\n",
    "            new_unicode = new_index + ord(\"A\")\n",
    "            new_character = chr(new_unicode)\n",
    "            # append to encrypted string\n",
    "            encryption = encryption + new_character\n",
    "        # Removes Spaces\n",
    "        elif c == \" \":\n",
    "            encryption += \" \"\n",
    "        else:\n",
    "            # since character is not uppercase, leave it as it is\n",
    "            encryption += c\n",
    "    return encryption\n",
    "\n",
    "# Function to Decrypt a string\n",
    "def decrypt(cyphertext, key):\n",
    "    plain_text = \"\"\n",
    "    for c in cyphertext.upper():\n",
    "        # check if character is an uppercase letter\n",
    "        if c.isupper():\n",
    "            # find the position in 0-25\n",
    "            c_unicode = ord(c)\n",
    "            c_index = ord(c) - ord(\"A\")\n",
    "            # perform the negative shift\n",
    "            new_index = (c_index - key) % 26\n",
    "            # convert to new character\n",
    "            new_unicode = new_index + ord(\"A\")\n",
    "            new_character = chr(new_unicode)\n",
    "            # append to plain string\n",
    "            plain_text = plain_text + new_character\n",
    "        else:\n",
    "            # since character is not uppercase, leave it as it is\n",
    "            plain_text += c\n",
    "    return plain_text\n"
   ]
  },
  {
   "cell_type": "code",
   "execution_count": 6,
   "id": "2456d9ae-e47e-43e0-9d4d-8d576cb67ecc",
   "metadata": {},
   "outputs": [],
   "source": [
    "# Finally I will define the 'main' which can run whenever I call main\n",
    "\n",
    "def main():\n",
    "    startchoice = encrypt_or_decrypt()\n",
    "\n",
    "    # This path leads to Encryption\n",
    "    if startchoice == 1:\n",
    "        plaintext = solicit_text()\n",
    "        shift = determine_shift()\n",
    "        cyphertext = encrypt(plaintext, shift)\n",
    "        print(f\"Here is your encrypted message:\\n'{cyphertext}'\")\n",
    "\n",
    "    # This path leads to Decryption\n",
    "    elif startchoice == 2:\n",
    "        cyphertext = solicit_text()\n",
    "        key = determine_shift()\n",
    "        key = -key\n",
    "        plaintext = decrypt(cyphertext, key)\n",
    "        print(f\"Here is your decrypted message:\\n'{plaintext}'\")\n",
    "\n",
    "    # This exits all of Main\n",
    "    exit"
   ]
  },
  {
   "cell_type": "code",
   "execution_count": 14,
   "id": "99777496-4430-4280-b2c8-98f7872083b4",
   "metadata": {},
   "outputs": [],
   "source": [
    "# Calling the program is now as easy as calling main in regular situations however\n",
    "# due to the nature of jupyter lab it is better to call our functions one by one.\n",
    "# In fact we can even ignore the initial fact of have to call the encrypt_or_decrypt function"
   ]
  },
  {
   "cell_type": "markdown",
   "id": "88dc41d1-732b-4935-9e68-3c2cec73be24",
   "metadata": {},
   "source": [
    "<h4 style=\"font-family: SourceCodePro\">Encryption Pathway</h4>"
   ]
  },
  {
   "cell_type": "code",
   "execution_count": 15,
   "id": "ef007744-1368-4601-94f4-d2ac8ae34ee5",
   "metadata": {},
   "outputs": [
    {
     "name": "stdin",
     "output_type": "stream",
     "text": [
      "Input text here:\n",
      " Two can keep a secret\n",
      "Input a Shift Value between 1 and 25):\n",
      " 5\n"
     ]
    },
    {
     "name": "stdout",
     "output_type": "stream",
     "text": [
      "Here is your encrypted message:\n",
      "'YBT HFS PJJU F XJHWJY'\n"
     ]
    }
   ],
   "source": [
    "# This path leads to Encryption\n",
    "plaintext = solicit_text()\n",
    "shift = determine_shift()\n",
    "cyphertext = encrypt(plaintext, shift)\n",
    "print(f\"Here is your encrypted message:\\n'{cyphertext}'\")"
   ]
  },
  {
   "cell_type": "markdown",
   "id": "63ef3463-12b1-4a48-b210-9ec6a0ea8cb1",
   "metadata": {},
   "source": [
    "<h4 style=\"font-family: SourceCodePro\">Decryption Pathway</h4>"
   ]
  },
  {
   "cell_type": "code",
   "execution_count": 20,
   "id": "8fbff586-33bc-41cf-8cc9-46a6cf99a498",
   "metadata": {},
   "outputs": [
    {
     "name": "stdin",
     "output_type": "stream",
     "text": [
      "Input text here:\n",
      " YBT HFS PJJU F XJHWJY\n"
     ]
    },
    {
     "name": "stdout",
     "output_type": "stream",
     "text": [
      "Here are the decryptions:\n",
      "XAS GER OIIT E WIGVIX\n",
      "\n",
      "WZR FDQ NHHS D VHFUHW\n",
      "\n",
      "VYQ ECP MGGR C UGETGV\n",
      "\n",
      "UXP DBO LFFQ B TFDSFU\n",
      "\n",
      "TWO CAN KEEP A SECRET\n",
      "\n",
      "SVN BZM JDDO Z RDBQDS\n",
      "\n",
      "RUM AYL ICCN Y QCAPCR\n",
      "\n",
      "QTL ZXK HBBM X PBZOBQ\n",
      "\n",
      "PSK YWJ GAAL W OAYNAP\n",
      "\n",
      "ORJ XVI FZZK V NZXMZO\n",
      "\n",
      "NQI WUH EYYJ U MYWLYN\n",
      "\n",
      "MPH VTG DXXI T LXVKXM\n",
      "\n",
      "LOG USF CWWH S KWUJWL\n",
      "\n",
      "KNF TRE BVVG R JVTIVK\n",
      "\n",
      "JME SQD AUUF Q IUSHUJ\n",
      "\n",
      "ILD RPC ZTTE P HTRGTI\n",
      "\n",
      "HKC QOB YSSD O GSQFSH\n",
      "\n",
      "GJB PNA XRRC N FRPERG\n",
      "\n",
      "FIA OMZ WQQB M EQODQF\n",
      "\n",
      "EHZ NLY VPPA L DPNCPE\n",
      "\n",
      "DGY MKX UOOZ K COMBOD\n",
      "\n",
      "CFX LJW TNNY J BNLANC\n",
      "\n",
      "BEW KIV SMMX I AMKZMB\n",
      "\n",
      "ADV JHU RLLW H ZLJYLA\n",
      "\n"
     ]
    }
   ],
   "source": [
    "# This path leads to Decryption\n",
    "cyphertext = solicit_text()\n",
    "key = range(1, 25)\n",
    "print(\"Here are the decryptions:\")\n",
    "for x in key:\n",
    "    plaintext = decrypt(cyphertext, x)\n",
    "    print(f\"{plaintext}\\n\")"
   ]
  },
  {
   "cell_type": "code",
   "execution_count": null,
   "id": "7eb0c483-b98f-4d0a-bde8-1a0a40f91384",
   "metadata": {},
   "outputs": [],
   "source": []
  }
 ],
 "metadata": {
  "kernelspec": {
   "display_name": "Python 3",
   "language": "python",
   "name": "python3"
  },
  "language_info": {
   "codemirror_mode": {
    "name": "ipython",
    "version": 3
   },
   "file_extension": ".py",
   "mimetype": "text/x-python",
   "name": "python",
   "nbconvert_exporter": "python",
   "pygments_lexer": "ipython3",
   "version": "3.9.4"
  }
 },
 "nbformat": 4,
 "nbformat_minor": 5
}
