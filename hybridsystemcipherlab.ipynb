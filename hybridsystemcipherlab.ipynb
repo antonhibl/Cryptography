{
 "cells": [
  {
   "cell_type": "markdown",
   "id": "0f3493a3-2432-4668-bd91-5ba077bf555d",
   "metadata": {},
   "source": [
    "# RSA Cryptography Lab\n",
    "<p>\n",
    "    This notebook will pertain research and information regarding RSA and EAS cryptography in order to set up a basic lab environment in which a hybrid system cipher is formed. From this point I will be able to utilize the lab environment by trying different variations of Shor's Algorithm in qiskit in order to crack the cipher and prove RSA is an unsafe protocol in the modern day for those who want protection from serious cryptanalyst's\n",
    "</p>"
   ]
  },
  {
   "cell_type": "markdown",
   "id": "70f25f64-96bb-469c-ab7e-e17199addd89",
   "metadata": {},
   "source": [
    "### Importing necessary modules"
   ]
  },
  {
   "cell_type": "code",
   "execution_count": 9,
   "id": "7fa9815b-3392-4222-9720-6eb1f55cc3a9",
   "metadata": {},
   "outputs": [],
   "source": [
    "from Cryptodome.Cipher import AES, PKCS1_OAEP\n",
    "from Cryptodome.PublicKey import RSA\n",
    "from Cryptodome.Random import get_random_bytes\n",
    "from io import BytesIO\n",
    "import base64\n",
    "import zlib"
   ]
  },
  {
   "cell_type": "markdown",
   "id": "62e3bc98-1add-4fd1-9351-5ed49ce97f0e",
   "metadata": {},
   "source": [
    "### Creating a function to generate RSA keys"
   ]
  },
  {
   "cell_type": "code",
   "execution_count": 13,
   "id": "2c834eb7-d290-47fa-8041-aa51f377bd04",
   "metadata": {},
   "outputs": [],
   "source": [
    "def generate():\n",
    "    new_key = RSA.generate(2048)\n",
    "    private_key = new_key.exportKey()\n",
    "    public_key = new_key.publickey().exportKey()\n",
    "\n",
    "    with open(\"key.pri\", \"wb\") as f:\n",
    "        f.write(private_key)\n",
    "\n",
    "    with open(\"key.pub\", \"wb\") as f:\n",
    "        f.write(public_key)"
   ]
  },
  {
   "cell_type": "markdown",
   "id": "f85a0054-21a8-4964-9e16-5bb51d4afda6",
   "metadata": {},
   "source": [
    "### Creating a function to grab either public or private key"
   ]
  },
  {
   "cell_type": "code",
   "execution_count": 14,
   "id": "bc2818ee-07f9-4577-897b-fe922e807d13",
   "metadata": {},
   "outputs": [],
   "source": [
    "def get_rsa_cipher(keytype):\n",
    "    with open(f\"key.{keytype}\") as f:\n",
    "        key = f.read()\n",
    "    rsakey = RSA.importKey(key)\n",
    "    return (PKCS1_OAEP.new(rsakey), rsakey.size_in_bytes())"
   ]
  },
  {
   "cell_type": "markdown",
   "id": "0a027ed7-6c05-475c-a8b5-77af91a0ac29",
   "metadata": {},
   "source": [
    "### Creating an encryption function\n",
    "This function encrypts data using RSA and EAS to form a hybrid encryption system."
   ]
  },
  {
   "cell_type": "code",
   "execution_count": 15,
   "id": "ca831d5b-b9e7-4926-9f60-30fca4c77eb5",
   "metadata": {},
   "outputs": [],
   "source": [
    "def encrypt(plaintext):\n",
    "    compressed_text = zlib.compress(plaintext)\n",
    "\n",
    "    session_key = get_random_bytes(16)\n",
    "    cipher_aes = AES.new(session_key, AES.MODE_EAX)\n",
    "    ciphertext, tag = cipher_aes.encrypt_and_digest(compressed_text)\n",
    "\n",
    "    cipher_rsa, _ = get_rsa_cipher(\"pub\")\n",
    "    encrypted_session_key = cipher_rsa.encrypt(session_key)\n",
    "\n",
    "    msg_payload = encrypted_session_key + cipher_aes.nonce + tag + ciphertext\n",
    "    encrypted = base64.encodebytes(msg_payload)\n",
    "    return encrypted"
   ]
  },
  {
   "cell_type": "markdown",
   "id": "689803c1-2445-4e18-8869-dea698ca3204",
   "metadata": {},
   "source": [
    "### Creating a decryption function\n",
    "This function will encrypt the data out of this hybrid cipher. I can use this to check if my own decipherment of the keys using Shor's Algorithm worked correctly."
   ]
  },
  {
   "cell_type": "code",
   "execution_count": 16,
   "id": "689d5cd4-a986-4006-9def-a028af9d769d",
   "metadata": {},
   "outputs": [],
   "source": [
    "def decrypt(encrypted):\n",
    "    encrypted_bytes = BytesIO(base64.decodebytes(encrypted))\n",
    "    cipher_rsa, keysize_in_bytes = get_rsa_cipher(\"pri\")\n",
    "\n",
    "    encrypted_session_key = encrypted_bytes.read(keysize_in_bytes)\n",
    "    nonce = encrypted_bytes.read(16)\n",
    "    tag = encrypted_bytes.read(16)\n",
    "    ciphertext = encrypted_bytes.read()\n",
    "\n",
    "    session_key = cipher_rsa.decrypt(encrypted_session_key)\n",
    "    cipher_aes = AES.new(session_key, AES.MODE_EAX, nonce)\n",
    "    decrypted = cipher_aes.decrypt_and_verify(ciphertext, tag)\n",
    "\n",
    "    plaintext = zlib.decompress(decrypted)\n",
    "    return plaintext"
   ]
  },
  {
   "cell_type": "markdown",
   "id": "37daa302-6662-4547-838a-04eb3e8d8c86",
   "metadata": {},
   "source": [
    "### Generate keys for RSA\n",
    "This segment acts like main would and generates keys for RSA and EAS"
   ]
  },
  {
   "cell_type": "code",
   "execution_count": 17,
   "id": "21d17a87-4c46-4da8-a202-7ab9fa289260",
   "metadata": {},
   "outputs": [],
   "source": [
    "generate()"
   ]
  },
  {
   "cell_type": "markdown",
   "id": "c101cf9c-c71c-43ed-9b06-a2df4e654b19",
   "metadata": {},
   "source": [
    "### Encrypt actual plaintext\n",
    "This contains the value for the plaintext string and prints back the encrypted text"
   ]
  },
  {
   "cell_type": "code",
   "execution_count": 18,
   "id": "df4efe53-44a2-4abc-a4b1-dcb345abf6c3",
   "metadata": {},
   "outputs": [
    {
     "name": "stdout",
     "output_type": "stream",
     "text": [
      "b'EE27kLf3V1+RiNAzuLu3ho7MCyxTKjo/NBTFr4/ZsQB+7fmZKCEcyhmHHSML69MEBmVPTjzawma4\\njX6QjGDRBEcxSpSxBaLnip+0+DFAkRU2SVzWkL1LgjlzEVm6/+1xODDaW9fRRWJFJekTpxH6Zp+K\\n6qxyh4Y7gTz7RX439x+kedNFecVe0Ykeq2hTSSdgZPNjwN148pBiHc1QbvMPWEvN7FUu8AgXSjd0\\nV3oNpW17HW9xLYCjUfjLp58QMWh9T6BN6nsGv8HP4NebdnGtLEpeBjHzcFymZtqiT4aWigwach+b\\nkqvXfy/VfoDHekzadW2LMkBCkFsylBCXXpMe6msrokCwBx/HXtasNbwEvdx2FjZLcc/WijexteM5\\nAfs9o3FwiSgKX72h+WbSu0TaoRZcwnCFPwmmPc53NlGJ\\n'\n"
     ]
    }
   ],
   "source": [
    "plaintext = b\"Two can keep a secret.\"\n",
    "print(encrypt(plaintext))"
   ]
  },
  {
   "cell_type": "markdown",
   "id": "95f334a8-2918-4f9d-ad13-9b7a563c9de3",
   "metadata": {},
   "source": [
    "### Show decrypted text"
   ]
  },
  {
   "cell_type": "code",
   "execution_count": 19,
   "id": "05f109bb-693f-4cd5-9549-dc53e4357fe0",
   "metadata": {},
   "outputs": [
    {
     "name": "stdout",
     "output_type": "stream",
     "text": [
      "b'Two can keep a secret.'\n"
     ]
    }
   ],
   "source": [
    "print(decrypt(encrypt(plaintext)))"
   ]
  },
  {
   "cell_type": "markdown",
   "id": "a7f5f84e-9e3f-4a6a-be98-42adda9d9456",
   "metadata": {},
   "source": [
    "## Going forward with this environment...\n",
    "I think the best way to go forth from here woul be to test different Qiskit implementations of Shor's Algorithm to try and decrypt the RSA key for this lab environment. We can verify by attempting to decrypt using the key generated from our Shor implementation then compare that to the value we know the string to be which is printed above."
   ]
  }
 ],
 "metadata": {
  "kernelspec": {
   "display_name": "Python 3",
   "language": "python",
   "name": "python3"
  },
  "language_info": {
   "codemirror_mode": {
    "name": "ipython",
    "version": 3
   },
   "file_extension": ".py",
   "mimetype": "text/x-python",
   "name": "python",
   "nbconvert_exporter": "python",
   "pygments_lexer": "ipython3",
   "version": "3.9.4"
  }
 },
 "nbformat": 4,
 "nbformat_minor": 5
}
